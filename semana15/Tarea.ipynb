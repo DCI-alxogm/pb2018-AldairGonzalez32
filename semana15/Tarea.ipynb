{
 "cells": [
  {
   "cell_type": "code",
   "execution_count": 5,
   "metadata": {},
   "outputs": [],
   "source": [
    "import numpy as np\n",
    "import matplotlib.pyplot as plt\n",
    "%matplotlib inline\n",
    "import scipy.constants as sc"
   ]
  },
  {
   "cell_type": "code",
   "execution_count": 6,
   "metadata": {},
   "outputs": [],
   "source": [
    "Datos=np.loadtxt('IRCF.txt')"
   ]
  },
  {
   "cell_type": "code",
   "execution_count": 7,
   "metadata": {},
   "outputs": [],
   "source": [
    "h=sc.Planck\n",
    "k=sc.Boltzmann\n",
    "c=sc.c"
   ]
  },
  {
   "cell_type": "code",
   "execution_count": 8,
   "metadata": {},
   "outputs": [],
   "source": [
    "F=Datos[:,0:1]   #Frecuencia\n",
    "E=Datos[:,1:2]   #Espectro\n",
    "C=Datos[:,3:4]   #Incertidumbre"
   ]
  },
  {
   "cell_type": "code",
   "execution_count": 30,
   "metadata": {},
   "outputs": [
    {
     "data": {
      "text/plain": [
       "Text(0.5,1,'Radiación de fondo de microondas')"
      ]
     },
     "execution_count": 30,
     "metadata": {},
     "output_type": "execute_result"
    },
    {
     "data": {
      "image/png": "[encoded data removed]",
      "text/plain": [
       "<Figure size 432x288 with 1 Axes>"
      ]
     },
     "metadata": {},
     "output_type": "display_data"
    }
   ],
   "source": [
    "plt.errorbar(F,E,C)\n",
    "plt.title(\"Radiación de fondo de microondas\")"
   ]
  },
  {
   "cell_type": "code",
   "execution_count": 12,
   "metadata": {},
   "outputs": [],
   "source": [
    "def I(v,T):\n",
    "    RFM=(((h(pow(F,3))/pow(c,2)))*(1/((np.exp(e,(h*(v*\"3e¹⁰\")/(k*T)))-1)))\n",
    "    return RFM"
   ]
  },
  {
   "cell_type": "code",
   "execution_count": 35,
   "metadata": {},
   "outputs": [],
   "source": [
    "F=F*3*pow(10,10)    #Frecuencia cambiada a Hz\n",
    "E=E*pow(10,6)       #Espectro en Jy/s\n",
    "C=C*pow(10,3)       #Incertidumbre en Jy/s\n"
   ]
  },
  {
   "cell_type": "code",
   "execution_count": 25,
   "metadata": {},
   "outputs": [],
   "source": [
    "def I(v,T):\n",
    "    RFM=(((h(pow(F,3))/pow(C,2)))*(1/((np.exp(e,(h*F)/(k*T)))-1)))  #Agregar minimos cuadrados.\n",
    "    RFM*pow(10,26)\n",
    "    return RFM"
   ]
  },
  {
   "cell_type": "code",
   "execution_count": null,
   "metadata": {},
   "outputs": [],
   "source": []
  },
  {
   "cell_type": "code",
   "execution_count": null,
   "metadata": {},
   "outputs": [],
   "source": []
  }
 ],
 "metadata": {
  "kernelspec": {
   "display_name": "Python 3",
   "language": "python",
   "name": "python3"
  },
  "language_info": {
   "codemirror_mode": {
    "name": "ipython",
    "version": 3
   },
   "file_extension": ".py",
   "mimetype": "text/x-python",
   "name": "python",
   "nbconvert_exporter": "python",
   "pygments_lexer": "ipython3",
   "version": "3.6.6"
  }
 },
 "nbformat": 4,
 "nbformat_minor": 2
}
